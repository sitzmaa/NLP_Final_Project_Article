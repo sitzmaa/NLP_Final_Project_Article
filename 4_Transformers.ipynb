{
  "cells": [
    {
      "cell_type": "code",
      "execution_count": null,
      "id": "R4rVPuJQV6CU",
      "metadata": {
        "id": "R4rVPuJQV6CU"
      },
      "outputs": [],
      "source": [
        "#!pip install datasets"
      ]
    },
    {
      "cell_type": "code",
      "execution_count": null,
      "id": "891b5e34",
      "metadata": {
        "id": "891b5e34"
      },
      "outputs": [],
      "source": [
        "import collections\n",
        "\n",
        "import datasets\n",
        "import matplotlib.pyplot as plt\n",
        "import numpy as np\n",
        "import torch\n",
        "import torch.nn as nn\n",
        "import torch.optim as optim\n",
        "import torchtext\n",
        "import tqdm\n",
        "import transformers\n",
        "import pandas as pd"
      ]
    },
    {
      "cell_type": "code",
      "execution_count": null,
      "id": "895ef909",
      "metadata": {
        "id": "895ef909"
      },
      "outputs": [],
      "source": [
        "seed = 1234\n",
        "\n",
        "np.random.seed(seed)\n",
        "torch.manual_seed(seed)\n",
        "torch.cuda.manual_seed(seed)\n",
        "torch.backends.cudnn.deterministic = True\n"
      ]
    },
    {
      "cell_type": "code",
      "execution_count": null,
      "id": "nJYl-s-hWzkL",
      "metadata": {
        "id": "nJYl-s-hWzkL"
      },
      "outputs": [],
      "source": [
        "#from google.colab import drive\n",
        "\n",
        "#drive.mount('/content/gdrive', force_remount=True)"
      ]
    },
    {
      "cell_type": "code",
      "execution_count": null,
      "id": "98f4ab7c",
      "metadata": {
        "colab": {
          "base_uri": "https://localhost:8080/",
          "height": 554
        },
        "id": "98f4ab7c",
        "outputId": "93799a2f-becf-4371-be6e-7df6b695dabd"
      },
      "outputs": [
        {
          "name": "stdout",
          "output_type": "stream",
          "text": [
            "<class 'pandas.core.frame.DataFrame'>\n",
            "RangeIndex: 72134 entries, 0 to 72133\n",
            "Data columns (total 4 columns):\n",
            " #   Column      Non-Null Count  Dtype \n",
            "---  ------      --------------  ----- \n",
            " 0   Unnamed: 0  72134 non-null  int64 \n",
            " 1   title       72134 non-null  object\n",
            " 2   text        72134 non-null  object\n",
            " 3   label       72134 non-null  int64 \n",
            "dtypes: int64(2), object(2)\n",
            "memory usage: 2.2+ MB\n",
            "None\n"
          ]
        }
      ],
      "source": [
        "from datasets import Dataset\n",
        "\n",
        "df = pd.read_csv('./WELFake_Dataset.csv', quoting=1, keep_default_na=False)\n",
        "print(df.info())\n",
        "\n",
        "dataset = Dataset.from_pandas(df)\n",
        "split_dataset = dataset.train_test_split(test_size=0.3)\n",
        "train_data = split_dataset['train']\n",
        "test_data = split_dataset['test']"
      ]
    },
    {
      "cell_type": "code",
      "execution_count": null,
      "id": "d0a1e49f",
      "metadata": {
        "id": "d0a1e49f",
        "outputId": "5d8e02fc-a770-43f1-d986-e9c83eaf12db"
      },
      "outputs": [
        {
          "name": "stderr",
          "output_type": "stream",
          "text": [
            "/home/sitzmaa/LM/.venv/lib/python3.11/site-packages/huggingface_hub/file_download.py:1132: FutureWarning: `resume_download` is deprecated and will be removed in version 1.0.0. Downloads always resume when possible. If you want to force a new download, use `force_download=True`.\n",
            "  warnings.warn(\n"
          ]
        }
      ],
      "source": [
        "transformer_name = \"bert-base-uncased\"\n",
        "\n",
        "tokenizer = transformers.AutoTokenizer.from_pretrained(transformer_name)"
      ]
    },
    {
      "cell_type": "code",
      "execution_count": null,
      "id": "4c814ae1",
      "metadata": {
        "id": "4c814ae1",
        "outputId": "23a902dc-1551-4407-9679-f28f8fd521a9"
      },
      "outputs": [
        {
          "data": {
            "text/plain": [
              "['hello', 'world', '!']"
            ]
          },
          "execution_count": 14,
          "metadata": {},
          "output_type": "execute_result"
        }
      ],
      "source": [
        "tokenizer.tokenize(\"hello world!\")"
      ]
    },
    {
      "cell_type": "code",
      "execution_count": null,
      "id": "ab3e4c32",
      "metadata": {
        "id": "ab3e4c32",
        "outputId": "5018f861-f5bd-4e5e-9946-22404904be46"
      },
      "outputs": [
        {
          "data": {
            "text/plain": [
              "[101, 7592, 2088, 999, 102]"
            ]
          },
          "execution_count": 15,
          "metadata": {},
          "output_type": "execute_result"
        }
      ],
      "source": [
        "tokenizer.encode(\"hello world!\")"
      ]
    },
    {
      "cell_type": "code",
      "execution_count": null,
      "id": "8f10453a",
      "metadata": {
        "id": "8f10453a",
        "outputId": "99271813-21be-43e8-9903-cd32245c0d1c"
      },
      "outputs": [
        {
          "data": {
            "text/plain": [
              "['[CLS]', 'hello', 'world', '[SEP]']"
            ]
          },
          "execution_count": 16,
          "metadata": {},
          "output_type": "execute_result"
        }
      ],
      "source": [
        "tokenizer.convert_ids_to_tokens(tokenizer.encode(\"hello world\"))"
      ]
    },
    {
      "cell_type": "code",
      "execution_count": null,
      "id": "824ba733",
      "metadata": {
        "id": "824ba733",
        "outputId": "a0b99835-cfde-43e2-8284-3d466f6a2c39"
      },
      "outputs": [
        {
          "data": {
            "text/plain": [
              "{'input_ids': [101, 7592, 2088, 999, 102], 'token_type_ids': [0, 0, 0, 0, 0], 'attention_mask': [1, 1, 1, 1, 1]}"
            ]
          },
          "execution_count": 17,
          "metadata": {},
          "output_type": "execute_result"
        }
      ],
      "source": [
        "tokenizer(\"hello world!\")"
      ]
    },
    {
      "cell_type": "code",
      "execution_count": null,
      "id": "9358a7aa",
      "metadata": {
        "id": "9358a7aa"
      },
      "outputs": [],
      "source": [
        "def tokenize_and_numericalize_example(example, tokenizer):\n",
        "    ids = tokenizer(example[\"text\"], truncation=True)[\"input_ids\"]\n",
        "    return {\"ids\": ids}"
      ]
    },
    {
      "cell_type": "code",
      "execution_count": null,
      "id": "d0259875",
      "metadata": {
        "id": "d0259875",
        "outputId": "b08c8371-e977-4654-c05c-9b6df68411e1"
      },
      "outputs": [
        {
          "name": "stderr",
          "output_type": "stream",
          "text": [
            "Map: 100%|██████████| 50493/50493 [00:45<00:00, 1101.22 examples/s]\n",
            "Map: 100%|██████████| 21641/21641 [00:19<00:00, 1102.47 examples/s]\n"
          ]
        }
      ],
      "source": [
        "train_data = train_data.map(\n",
        "    tokenize_and_numericalize_example, fn_kwargs={\"tokenizer\": tokenizer}\n",
        ")\n",
        "test_data = test_data.map(\n",
        "    tokenize_and_numericalize_example, fn_kwargs={\"tokenizer\": tokenizer}\n",
        ")"
      ]
    },
    {
      "cell_type": "code",
      "execution_count": null,
      "id": "e39e64b1",
      "metadata": {
        "id": "e39e64b1",
        "outputId": "b8848fdd-eb46-4e7d-e7d5-8a7732a1972f"
      },
      "outputs": [
        {
          "data": {
            "text/plain": [
              "{'Unnamed: 0': 24190,\n",
              " 'title': ' GOP Congressman Secretly Scrubbed This Embarrassing Info From His Wikipedia Page (IMAGE)',\n",
              " 'text': 'A Republican member of Congress was caught scrubbing his Wikipedia page of potentially embarrassing information, including his affiliation with a cult. Rep. David Jolly s (FL) congressional campaign was caught in the act. Jolly is running to replace Senator Marco Rubio after his failed presidential campaign.A spokesman for Rep. David Jolly (R-FL) told BuzzFeed News on Tuesday that the campaign removed certain information, including references to the Church of Scientology, that once appeared on Jolly s Wikipedia page.Spokeswoman Sarah Bascom confirmed to BuzzFeed that the campaign took off parts of the Wikipedia entry that told of Jolly s ties to Scientology. The campaign also removed references to Jolly s past career as a lobbyist and his past positions on gay marriage, according to the report.Jolly told a local newspaper the attempt to hide the information was a  careless staff mistake,  but the incident follows a pattern of politicians and their underlings attempting to remove information from the heavily trafficked encyclopedia site. Corporations have also previously been caught attempting to remove unflattering information or add PR fluff to the site as well.The information Jolly tried to remove has been restored, with a sentence noting:Jolly s relationship with the Church of Scientology, which is based inside his congressional district in Clearwater, Florida, has been reported on in the press, including Jolly s attendance at various fundraising events hosted by the organization.Via TheLipTV, here is the invitation for the Scientology fundraiser for Florida attorney general Pam Bondi involving David Jolly that his campaign tried to hide:David Jolly Scientology InvitationThe Daily Beast reported on Jolly s ties to Scientology in a story headlined  Scientology Could Get Its Own Senator.  In addition to Jolly s fundraising connection to the group, his wife was slated to be a model in a charity fashion show for the group, and the treasurer for his PAC is on the board of a group founded by Scientologists.Jolly is perhaps trying to avoid connections to Scientology due to their well-documented history of harassment campaigns against defectors, practices involving disconnecting members from their families, or their belief in alien involvement in world affairs.Featured image via screencapture',\n",
              " 'label': 1,\n",
              " 'ids': [101,\n",
              "  1037,\n",
              "  3951,\n",
              "  2266,\n",
              "  1997,\n",
              "  3519,\n",
              "  2001,\n",
              "  3236,\n",
              "  18157,\n",
              "  10472,\n",
              "  2010,\n",
              "  16948,\n",
              "  3931,\n",
              "  1997,\n",
              "  9280,\n",
              "  16436,\n",
              "  2592,\n",
              "  1010,\n",
              "  2164,\n",
              "  2010,\n",
              "  12912,\n",
              "  2007,\n",
              "  1037,\n",
              "  8754,\n",
              "  1012,\n",
              "  16360,\n",
              "  1012,\n",
              "  2585,\n",
              "  22193,\n",
              "  1055,\n",
              "  1006,\n",
              "  13109,\n",
              "  1007,\n",
              "  7740,\n",
              "  3049,\n",
              "  2001,\n",
              "  3236,\n",
              "  1999,\n",
              "  1996,\n",
              "  2552,\n",
              "  1012,\n",
              "  22193,\n",
              "  2003,\n",
              "  2770,\n",
              "  2000,\n",
              "  5672,\n",
              "  5205,\n",
              "  8879,\n",
              "  14548,\n",
              "  3695,\n",
              "  2044,\n",
              "  2010,\n",
              "  3478,\n",
              "  4883,\n",
              "  3049,\n",
              "  1012,\n",
              "  1037,\n",
              "  14056,\n",
              "  2005,\n",
              "  16360,\n",
              "  1012,\n",
              "  2585,\n",
              "  22193,\n",
              "  1006,\n",
              "  1054,\n",
              "  1011,\n",
              "  13109,\n",
              "  1007,\n",
              "  2409,\n",
              "  12610,\n",
              "  7959,\n",
              "  2098,\n",
              "  2739,\n",
              "  2006,\n",
              "  9857,\n",
              "  2008,\n",
              "  1996,\n",
              "  3049,\n",
              "  3718,\n",
              "  3056,\n",
              "  2592,\n",
              "  1010,\n",
              "  2164,\n",
              "  7604,\n",
              "  2000,\n",
              "  1996,\n",
              "  2277,\n",
              "  1997,\n",
              "  23845,\n",
              "  1010,\n",
              "  2008,\n",
              "  2320,\n",
              "  2596,\n",
              "  2006,\n",
              "  22193,\n",
              "  1055,\n",
              "  16948,\n",
              "  3931,\n",
              "  1012,\n",
              "  3764,\n",
              "  26760,\n",
              "  20778,\n",
              "  4532,\n",
              "  19021,\n",
              "  9006,\n",
              "  4484,\n",
              "  2000,\n",
              "  12610,\n",
              "  7959,\n",
              "  2098,\n",
              "  2008,\n",
              "  1996,\n",
              "  3049,\n",
              "  2165,\n",
              "  2125,\n",
              "  3033,\n",
              "  1997,\n",
              "  1996,\n",
              "  16948,\n",
              "  4443,\n",
              "  2008,\n",
              "  2409,\n",
              "  1997,\n",
              "  22193,\n",
              "  1055,\n",
              "  7208,\n",
              "  2000,\n",
              "  23845,\n",
              "  1012,\n",
              "  1996,\n",
              "  3049,\n",
              "  2036,\n",
              "  3718,\n",
              "  7604,\n",
              "  2000,\n",
              "  22193,\n",
              "  1055,\n",
              "  2627,\n",
              "  2476,\n",
              "  2004,\n",
              "  1037,\n",
              "  9568,\n",
              "  2923,\n",
              "  1998,\n",
              "  2010,\n",
              "  2627,\n",
              "  4460,\n",
              "  2006,\n",
              "  5637,\n",
              "  3510,\n",
              "  1010,\n",
              "  2429,\n",
              "  2000,\n",
              "  1996,\n",
              "  3189,\n",
              "  1012,\n",
              "  22193,\n",
              "  2409,\n",
              "  1037,\n",
              "  2334,\n",
              "  3780,\n",
              "  1996,\n",
              "  3535,\n",
              "  2000,\n",
              "  5342,\n",
              "  1996,\n",
              "  2592,\n",
              "  2001,\n",
              "  1037,\n",
              "  23358,\n",
              "  3095,\n",
              "  6707,\n",
              "  1010,\n",
              "  2021,\n",
              "  1996,\n",
              "  5043,\n",
              "  4076,\n",
              "  1037,\n",
              "  5418,\n",
              "  1997,\n",
              "  8801,\n",
              "  1998,\n",
              "  2037,\n",
              "  2104,\n",
              "  11227,\n",
              "  7161,\n",
              "  2000,\n",
              "  6366,\n",
              "  2592,\n",
              "  2013,\n",
              "  1996,\n",
              "  4600,\n",
              "  4026,\n",
              "  8126,\n",
              "  12204,\n",
              "  2609,\n",
              "  1012,\n",
              "  11578,\n",
              "  2031,\n",
              "  2036,\n",
              "  3130,\n",
              "  2042,\n",
              "  3236,\n",
              "  7161,\n",
              "  2000,\n",
              "  6366,\n",
              "  4895,\n",
              "  10258,\n",
              "  20097,\n",
              "  2075,\n",
              "  2592,\n",
              "  2030,\n",
              "  5587,\n",
              "  10975,\n",
              "  19857,\n",
              "  4246,\n",
              "  2000,\n",
              "  1996,\n",
              "  2609,\n",
              "  2004,\n",
              "  2092,\n",
              "  1012,\n",
              "  1996,\n",
              "  2592,\n",
              "  22193,\n",
              "  2699,\n",
              "  2000,\n",
              "  6366,\n",
              "  2038,\n",
              "  2042,\n",
              "  5854,\n",
              "  1010,\n",
              "  2007,\n",
              "  1037,\n",
              "  6251,\n",
              "  9073,\n",
              "  1024,\n",
              "  22193,\n",
              "  1055,\n",
              "  3276,\n",
              "  2007,\n",
              "  1996,\n",
              "  2277,\n",
              "  1997,\n",
              "  23845,\n",
              "  1010,\n",
              "  2029,\n",
              "  2003,\n",
              "  2241,\n",
              "  2503,\n",
              "  2010,\n",
              "  7740,\n",
              "  2212,\n",
              "  1999,\n",
              "  3154,\n",
              "  5880,\n",
              "  1010,\n",
              "  3516,\n",
              "  1010,\n",
              "  2038,\n",
              "  2042,\n",
              "  2988,\n",
              "  2006,\n",
              "  1999,\n",
              "  1996,\n",
              "  2811,\n",
              "  1010,\n",
              "  2164,\n",
              "  22193,\n",
              "  1055,\n",
              "  5270,\n",
              "  2012,\n",
              "  2536,\n",
              "  15524,\n",
              "  2824,\n",
              "  4354,\n",
              "  2011,\n",
              "  1996,\n",
              "  3029,\n",
              "  1012,\n",
              "  3081,\n",
              "  1996,\n",
              "  15000,\n",
              "  9189,\n",
              "  1010,\n",
              "  2182,\n",
              "  2003,\n",
              "  1996,\n",
              "  8468,\n",
              "  2005,\n",
              "  1996,\n",
              "  23845,\n",
              "  28536,\n",
              "  2005,\n",
              "  3516,\n",
              "  4905,\n",
              "  2236,\n",
              "  14089,\n",
              "  5416,\n",
              "  2072,\n",
              "  5994,\n",
              "  2585,\n",
              "  22193,\n",
              "  2008,\n",
              "  2010,\n",
              "  3049,\n",
              "  2699,\n",
              "  2000,\n",
              "  5342,\n",
              "  1024,\n",
              "  2585,\n",
              "  22193,\n",
              "  23845,\n",
              "  8468,\n",
              "  10760,\n",
              "  3679,\n",
              "  6841,\n",
              "  2988,\n",
              "  2006,\n",
              "  22193,\n",
              "  1055,\n",
              "  7208,\n",
              "  2000,\n",
              "  23845,\n",
              "  1999,\n",
              "  1037,\n",
              "  2466,\n",
              "  25214,\n",
              "  23845,\n",
              "  2071,\n",
              "  2131,\n",
              "  2049,\n",
              "  2219,\n",
              "  5205,\n",
              "  1012,\n",
              "  1999,\n",
              "  2804,\n",
              "  2000,\n",
              "  22193,\n",
              "  1055,\n",
              "  15524,\n",
              "  4434,\n",
              "  2000,\n",
              "  1996,\n",
              "  2177,\n",
              "  1010,\n",
              "  2010,\n",
              "  2564,\n",
              "  2001,\n",
              "  18517,\n",
              "  2000,\n",
              "  2022,\n",
              "  1037,\n",
              "  2944,\n",
              "  1999,\n",
              "  1037,\n",
              "  5952,\n",
              "  4827,\n",
              "  2265,\n",
              "  2005,\n",
              "  1996,\n",
              "  2177,\n",
              "  1010,\n",
              "  1998,\n",
              "  1996,\n",
              "  10211,\n",
              "  2005,\n",
              "  2010,\n",
              "  14397,\n",
              "  2003,\n",
              "  2006,\n",
              "  1996,\n",
              "  2604,\n",
              "  1997,\n",
              "  1037,\n",
              "  2177,\n",
              "  2631,\n",
              "  2011,\n",
              "  16596,\n",
              "  4765,\n",
              "  16886,\n",
              "  1012,\n",
              "  22193,\n",
              "  2003,\n",
              "  3383,\n",
              "  2667,\n",
              "  2000,\n",
              "  4468,\n",
              "  7264,\n",
              "  2000,\n",
              "  23845,\n",
              "  2349,\n",
              "  2000,\n",
              "  2037,\n",
              "  2092,\n",
              "  1011,\n",
              "  8832,\n",
              "  2381,\n",
              "  1997,\n",
              "  16011,\n",
              "  8008,\n",
              "  2114,\n",
              "  21262,\n",
              "  5668,\n",
              "  1010,\n",
              "  6078,\n",
              "  5994,\n",
              "  12532,\n",
              "  10087,\n",
              "  11873,\n",
              "  2372,\n",
              "  2013,\n",
              "  2037,\n",
              "  2945,\n",
              "  1010,\n",
              "  2030,\n",
              "  2037,\n",
              "  6772,\n",
              "  1999,\n",
              "  7344,\n",
              "  6624,\n",
              "  1999,\n",
              "  2088,\n",
              "  3821,\n",
              "  1012,\n",
              "  2956,\n",
              "  3746,\n",
              "  3081,\n",
              "  3898,\n",
              "  17695,\n",
              "  11244,\n",
              "  102]}"
            ]
          },
          "execution_count": 20,
          "metadata": {},
          "output_type": "execute_result"
        }
      ],
      "source": [
        "train_data[0]"
      ]
    },
    {
      "cell_type": "code",
      "execution_count": null,
      "id": "96d87205",
      "metadata": {
        "id": "96d87205",
        "outputId": "802b4c97-7223-4a14-b042-f6350c6367bb"
      },
      "outputs": [
        {
          "data": {
            "text/plain": [
              "999"
            ]
          },
          "execution_count": 21,
          "metadata": {},
          "output_type": "execute_result"
        }
      ],
      "source": [
        "tokenizer.vocab[\"!\"]"
      ]
    },
    {
      "cell_type": "code",
      "execution_count": null,
      "id": "614d747b",
      "metadata": {
        "id": "614d747b",
        "outputId": "03852bfd-9790-459a-a75a-c408e5c34615"
      },
      "outputs": [
        {
          "data": {
            "text/plain": [
              "'[PAD]'"
            ]
          },
          "execution_count": 22,
          "metadata": {},
          "output_type": "execute_result"
        }
      ],
      "source": [
        "tokenizer.pad_token"
      ]
    },
    {
      "cell_type": "code",
      "execution_count": null,
      "id": "18f18b66",
      "metadata": {
        "id": "18f18b66",
        "outputId": "9cf165ef-776e-42fe-aa18-c8172940e201"
      },
      "outputs": [
        {
          "data": {
            "text/plain": [
              "0"
            ]
          },
          "execution_count": 23,
          "metadata": {},
          "output_type": "execute_result"
        }
      ],
      "source": [
        "tokenizer.pad_token_id"
      ]
    },
    {
      "cell_type": "code",
      "execution_count": null,
      "id": "2a0d0a6d",
      "metadata": {
        "id": "2a0d0a6d",
        "outputId": "c4d3c6e9-fc5d-49d4-d4e1-ecda8fd2b834"
      },
      "outputs": [
        {
          "data": {
            "text/plain": [
              "0"
            ]
          },
          "execution_count": 24,
          "metadata": {},
          "output_type": "execute_result"
        }
      ],
      "source": [
        "tokenizer.vocab[tokenizer.pad_token]"
      ]
    },
    {
      "cell_type": "code",
      "execution_count": null,
      "id": "3cdaa10f",
      "metadata": {
        "id": "3cdaa10f"
      },
      "outputs": [],
      "source": [
        "pad_index = tokenizer.pad_token_id"
      ]
    },
    {
      "cell_type": "code",
      "execution_count": null,
      "id": "8532b705",
      "metadata": {
        "id": "8532b705"
      },
      "outputs": [],
      "source": [
        "test_size = 0.25\n",
        "\n",
        "train_valid_data = train_data.train_test_split(test_size=test_size)\n",
        "train_data = train_valid_data[\"train\"]\n",
        "valid_data = train_valid_data[\"test\"]"
      ]
    },
    {
      "cell_type": "code",
      "execution_count": null,
      "id": "cc54e1eb",
      "metadata": {
        "id": "cc54e1eb"
      },
      "outputs": [],
      "source": [
        "train_data = train_data.with_format(type=\"torch\", columns=[\"ids\", \"label\"])\n",
        "valid_data = valid_data.with_format(type=\"torch\", columns=[\"ids\", \"label\"])\n",
        "test_data = test_data.with_format(type=\"torch\", columns=[\"ids\", \"label\"])"
      ]
    },
    {
      "cell_type": "code",
      "execution_count": null,
      "id": "bea43ba0",
      "metadata": {
        "id": "bea43ba0"
      },
      "outputs": [],
      "source": [
        "def get_collate_fn(pad_index):\n",
        "    def collate_fn(batch):\n",
        "        batch_ids = [i[\"ids\"] for i in batch]\n",
        "        batch_ids = nn.utils.rnn.pad_sequence(\n",
        "            batch_ids, padding_value=pad_index, batch_first=True\n",
        "        )\n",
        "        batch_label = [i[\"label\"] for i in batch]\n",
        "        batch_label = torch.stack(batch_label)\n",
        "        batch = {\"ids\": batch_ids, \"label\": batch_label}\n",
        "        return batch\n",
        "\n",
        "    return collate_fn"
      ]
    },
    {
      "cell_type": "code",
      "execution_count": null,
      "id": "ea2176bb",
      "metadata": {
        "id": "ea2176bb"
      },
      "outputs": [],
      "source": [
        "def get_data_loader(dataset, batch_size, pad_index, shuffle=False):\n",
        "    collate_fn = get_collate_fn(pad_index)\n",
        "    data_loader = torch.utils.data.DataLoader(\n",
        "        dataset=dataset,\n",
        "        batch_size=batch_size,\n",
        "        collate_fn=collate_fn,\n",
        "        shuffle=shuffle,\n",
        "    )\n",
        "    return data_loader"
      ]
    },
    {
      "cell_type": "code",
      "execution_count": null,
      "id": "dce162ba",
      "metadata": {
        "id": "dce162ba"
      },
      "outputs": [],
      "source": [
        "batch_size = 8\n",
        "\n",
        "train_data_loader = get_data_loader(train_data, batch_size, pad_index, shuffle=True)\n",
        "valid_data_loader = get_data_loader(valid_data, batch_size, pad_index)\n",
        "test_data_loader = get_data_loader(test_data, batch_size, pad_index)"
      ]
    },
    {
      "cell_type": "code",
      "execution_count": null,
      "id": "01a637ac",
      "metadata": {
        "id": "01a637ac"
      },
      "outputs": [],
      "source": [
        "class Transformer(nn.Module):\n",
        "    def __init__(self, transformer, output_dim, freeze):\n",
        "        super().__init__()\n",
        "        self.transformer = transformer\n",
        "        hidden_dim = transformer.config.hidden_size\n",
        "        self.fc = nn.Linear(hidden_dim, output_dim)\n",
        "        if freeze:\n",
        "            for param in self.transformer.parameters():\n",
        "                param.requires_grad = False\n",
        "\n",
        "    def forward(self, ids):\n",
        "        # ids = [batch size, seq len]\n",
        "        output = self.transformer(ids, output_attentions=True)\n",
        "        hidden = output.last_hidden_state\n",
        "        # hidden = [batch size, seq len, hidden dim]\n",
        "        attention = output.attentions[-1]\n",
        "        # attention = [batch size, n heads, seq len, seq len]\n",
        "        cls_hidden = hidden[:, 0, :]\n",
        "        prediction = self.fc(torch.tanh(cls_hidden))\n",
        "        # prediction = [batch size, output dim]\n",
        "        return prediction"
      ]
    },
    {
      "cell_type": "code",
      "execution_count": null,
      "id": "f057f3b6",
      "metadata": {
        "id": "f057f3b6"
      },
      "outputs": [],
      "source": [
        "transformer = transformers.AutoModel.from_pretrained(transformer_name)"
      ]
    },
    {
      "cell_type": "code",
      "execution_count": null,
      "id": "e1daf186",
      "metadata": {
        "id": "e1daf186",
        "outputId": "89496c08-befb-499e-b2fe-3703584a70ff"
      },
      "outputs": [
        {
          "data": {
            "text/plain": [
              "768"
            ]
          },
          "execution_count": 33,
          "metadata": {},
          "output_type": "execute_result"
        }
      ],
      "source": [
        "transformer.config.hidden_size"
      ]
    },
    {
      "cell_type": "code",
      "execution_count": null,
      "id": "ff995192",
      "metadata": {
        "id": "ff995192"
      },
      "outputs": [],
      "source": [
        "output_dim = len(train_data[\"label\"].unique())\n",
        "freeze = False\n",
        "\n",
        "model = Transformer(transformer, output_dim, freeze)"
      ]
    },
    {
      "cell_type": "code",
      "execution_count": null,
      "id": "f15efc07",
      "metadata": {
        "id": "f15efc07",
        "outputId": "d76a12e9-02ef-40c6-bdec-247666a8e7d7"
      },
      "outputs": [
        {
          "name": "stdout",
          "output_type": "stream",
          "text": [
            "The model has 109,483,778 trainable parameters\n"
          ]
        }
      ],
      "source": [
        "def count_parameters(model):\n",
        "    return sum(p.numel() for p in model.parameters() if p.requires_grad)\n",
        "\n",
        "\n",
        "print(f\"The model has {count_parameters(model):,} trainable parameters\")"
      ]
    },
    {
      "cell_type": "code",
      "execution_count": null,
      "id": "d2a9f4f7",
      "metadata": {
        "id": "d2a9f4f7"
      },
      "outputs": [],
      "source": [
        "lr = 1e-5\n",
        "\n",
        "optimizer = optim.Adam(model.parameters(), lr=lr)"
      ]
    },
    {
      "cell_type": "code",
      "execution_count": null,
      "id": "e82c640f",
      "metadata": {
        "id": "e82c640f"
      },
      "outputs": [],
      "source": [
        "criterion = nn.CrossEntropyLoss()"
      ]
    },
    {
      "cell_type": "code",
      "execution_count": null,
      "id": "0bb2a2a4",
      "metadata": {
        "id": "0bb2a2a4",
        "outputId": "ca8d6af2-c18f-4c1b-cb3b-1d85cf248bf1"
      },
      "outputs": [
        {
          "data": {
            "text/plain": [
              "device(type='cuda')"
            ]
          },
          "execution_count": 38,
          "metadata": {},
          "output_type": "execute_result"
        }
      ],
      "source": [
        "device = torch.device(\"cuda\" if torch.cuda.is_available() else \"cpu\")\n",
        "\n",
        "device"
      ]
    },
    {
      "cell_type": "code",
      "execution_count": null,
      "id": "6fc62ff8",
      "metadata": {
        "id": "6fc62ff8"
      },
      "outputs": [],
      "source": [
        "model = model.to(device)\n",
        "criterion = criterion.to(device)"
      ]
    },
    {
      "cell_type": "code",
      "execution_count": null,
      "id": "98f54638",
      "metadata": {
        "id": "98f54638"
      },
      "outputs": [],
      "source": [
        "def train(data_loader, model, criterion, optimizer, device):\n",
        "    model.train()\n",
        "    epoch_losses = []\n",
        "    epoch_accs = []\n",
        "    for batch in tqdm.tqdm(data_loader, desc=\"training...\"):\n",
        "        ids = batch[\"ids\"].to(device)\n",
        "        label = batch[\"label\"].to(device)\n",
        "        prediction = model(ids)\n",
        "        loss = criterion(prediction, label)\n",
        "        accuracy = get_accuracy(prediction, label)\n",
        "        optimizer.zero_grad()\n",
        "        loss.backward()\n",
        "        optimizer.step()\n",
        "        epoch_losses.append(loss.item())\n",
        "        epoch_accs.append(accuracy.item())\n",
        "    return np.mean(epoch_losses), np.mean(epoch_accs)"
      ]
    },
    {
      "cell_type": "code",
      "execution_count": null,
      "id": "df0424bd",
      "metadata": {
        "id": "df0424bd"
      },
      "outputs": [],
      "source": [
        "def evaluate(data_loader, model, criterion, device):\n",
        "    model.eval()\n",
        "    epoch_losses = []\n",
        "    epoch_accs = []\n",
        "    with torch.no_grad():\n",
        "        for batch in tqdm.tqdm(data_loader, desc=\"evaluating...\"):\n",
        "            ids = batch[\"ids\"].to(device)\n",
        "            label = batch[\"label\"].to(device)\n",
        "            prediction = model(ids)\n",
        "            loss = criterion(prediction, label)\n",
        "            accuracy = get_accuracy(prediction, label)\n",
        "            epoch_losses.append(loss.item())\n",
        "            epoch_accs.append(accuracy.item())\n",
        "    return np.mean(epoch_losses), np.mean(epoch_accs)"
      ]
    },
    {
      "cell_type": "code",
      "execution_count": null,
      "id": "34331854",
      "metadata": {
        "id": "34331854"
      },
      "outputs": [],
      "source": [
        "def get_accuracy(prediction, label):\n",
        "    batch_size, _ = prediction.shape\n",
        "    predicted_classes = prediction.argmax(dim=-1)\n",
        "    correct_predictions = predicted_classes.eq(label).sum()\n",
        "    accuracy = correct_predictions / batch_size\n",
        "    return accuracy"
      ]
    },
    {
      "cell_type": "code",
      "execution_count": null,
      "id": "df33ac5d",
      "metadata": {
        "id": "df33ac5d",
        "outputId": "06d594f6-1876-48ab-f5ff-a235fc46b8ec"
      },
      "outputs": [
        {
          "name": "stderr",
          "output_type": "stream",
          "text": [
            "training...:   0%|          | 0/4734 [00:00<?, ?it/s]We strongly recommend passing in an `attention_mask` since your input_ids may be padded. See https://huggingface.co/docs/transformers/troubleshooting#incorrect-output-when-padding-tokens-arent-masked.\n",
            "BertSdpaSelfAttention is used but `torch.nn.functional.scaled_dot_product_attention` does not support non-absolute `position_embedding_type` or `output_attentions=True` or `head_mask`. Falling back to the manual attention implementation, but specifying the manual implementation will be required from Transformers version v5.0.0 onwards. This warning can be removed using the argument `attn_implementation=\"eager\"` when loading the model.\n",
            "training...: 100%|██████████| 4734/4734 [40:07<00:00,  1.97it/s]\n",
            "evaluating...: 100%|██████████| 1578/1578 [04:14<00:00,  6.20it/s]\n"
          ]
        },
        {
          "name": "stdout",
          "output_type": "stream",
          "text": [
            "epoch: 0\n",
            "train_loss: 0.051, train_acc: 0.981\n",
            "valid_loss: 0.029, valid_acc: 0.991\n"
          ]
        },
        {
          "name": "stderr",
          "output_type": "stream",
          "text": [
            "training...: 100%|██████████| 4734/4734 [40:22<00:00,  1.95it/s]\n",
            "evaluating...: 100%|██████████| 1578/1578 [04:14<00:00,  6.19it/s]\n"
          ]
        },
        {
          "name": "stdout",
          "output_type": "stream",
          "text": [
            "epoch: 1\n",
            "train_loss: 0.016, train_acc: 0.994\n",
            "valid_loss: 0.024, valid_acc: 0.992\n"
          ]
        },
        {
          "name": "stderr",
          "output_type": "stream",
          "text": [
            "training...: 100%|██████████| 4734/4734 [40:09<00:00,  1.96it/s]\n",
            "evaluating...: 100%|██████████| 1578/1578 [04:15<00:00,  6.18it/s]"
          ]
        },
        {
          "name": "stdout",
          "output_type": "stream",
          "text": [
            "epoch: 2\n",
            "train_loss: 0.008, train_acc: 0.997\n",
            "valid_loss: 0.025, valid_acc: 0.994\n"
          ]
        },
        {
          "name": "stderr",
          "output_type": "stream",
          "text": [
            "\n"
          ]
        }
      ],
      "source": [
        "n_epochs = 3\n",
        "best_valid_loss = float(\"inf\")\n",
        "\n",
        "metrics = collections.defaultdict(list)\n",
        "\n",
        "for epoch in range(n_epochs):\n",
        "    train_loss, train_acc = train(\n",
        "        train_data_loader, model, criterion, optimizer, device\n",
        "    )\n",
        "    valid_loss, valid_acc = evaluate(valid_data_loader, model, criterion, device)\n",
        "    metrics[\"train_losses\"].append(train_loss)\n",
        "    metrics[\"train_accs\"].append(train_acc)\n",
        "    metrics[\"valid_losses\"].append(valid_loss)\n",
        "    metrics[\"valid_accs\"].append(valid_acc)\n",
        "    if valid_loss < best_valid_loss:\n",
        "        best_valid_loss = valid_loss\n",
        "        torch.save(model.state_dict(), \"transformer.pt\")\n",
        "    print(f\"epoch: {epoch}\")\n",
        "    print(f\"train_loss: {train_loss:.3f}, train_acc: {train_acc:.3f}\")\n",
        "    print(f\"valid_loss: {valid_loss:.3f}, valid_acc: {valid_acc:.3f}\")"
      ]
    },
    {
      "cell_type": "code",
      "execution_count": null,
      "id": "8ac2a935",
      "metadata": {
        "id": "8ac2a935",
        "outputId": "a3ebeae7-2d0c-4a57-e1b9-71464f415fbd"
      },
      "outputs": [
        {
          "data": {
            "image/png": "[encoded data removed]",
            "text/plain": [
              "<Figure size 1000x600 with 1 Axes>"
            ]
          },
          "metadata": {},
          "output_type": "display_data"
        }
      ],
      "source": [
        "fig = plt.figure(figsize=(10, 6))\n",
        "ax = fig.add_subplot(1, 1, 1)\n",
        "ax.plot(metrics[\"train_losses\"], label=\"train loss\")\n",
        "ax.plot(metrics[\"valid_losses\"], label=\"valid loss\")\n",
        "ax.set_xlabel(\"epoch\")\n",
        "ax.set_ylabel(\"loss\")\n",
        "ax.set_xticks(range(n_epochs))\n",
        "ax.legend()\n",
        "ax.grid()"
      ]
    },
    {
      "cell_type": "code",
      "execution_count": null,
      "id": "8796527d",
      "metadata": {
        "id": "8796527d",
        "outputId": "51509e48-b764-4c7f-8e99-fd238c471003"
      },
      "outputs": [
        {
          "data": {
            "image/png": "[encoded data removed]",
            "text/plain": [
              "<Figure size 1000x600 with 1 Axes>"
            ]
          },
          "metadata": {},
          "output_type": "display_data"
        }
      ],
      "source": [
        "fig = plt.figure(figsize=(10, 6))\n",
        "ax = fig.add_subplot(1, 1, 1)\n",
        "ax.plot(metrics[\"train_accs\"], label=\"train accuracy\")\n",
        "ax.plot(metrics[\"valid_accs\"], label=\"valid accuracy\")\n",
        "ax.set_xlabel(\"epoch\")\n",
        "ax.set_ylabel(\"loss\")\n",
        "ax.set_xticks(range(n_epochs))\n",
        "ax.legend()\n",
        "ax.grid()"
      ]
    },
    {
      "cell_type": "code",
      "execution_count": null,
      "id": "c9f36818",
      "metadata": {
        "id": "c9f36818",
        "outputId": "b7c75322-13bc-4895-ab2b-152dce7f3612"
      },
      "outputs": [
        {
          "name": "stderr",
          "output_type": "stream",
          "text": [
            "evaluating...: 100%|██████████| 2706/2706 [07:18<00:00,  6.18it/s]\n"
          ]
        }
      ],
      "source": [
        "model.load_state_dict(torch.load(\"transformer.pt\"))\n",
        "\n",
        "test_loss, test_acc = evaluate(test_data_loader, model, criterion, device)"
      ]
    },
    {
      "cell_type": "code",
      "execution_count": null,
      "id": "b1f14079",
      "metadata": {
        "id": "b1f14079",
        "outputId": "c163e0be-ce81-47a3-c01d-aab5218e7829"
      },
      "outputs": [
        {
          "name": "stdout",
          "output_type": "stream",
          "text": [
            "test_loss: 0.024, test_acc: 0.992\n"
          ]
        }
      ],
      "source": [
        "print(f\"test_loss: {test_loss:.3f}, test_acc: {test_acc:.3f}\")"
      ]
    },
    {
      "cell_type": "code",
      "execution_count": null,
      "id": "fca30739",
      "metadata": {
        "id": "fca30739"
      },
      "outputs": [],
      "source": [
        "def predict_sentiment(text, model, tokenizer, device):\n",
        "    ids = tokenizer(text)[\"input_ids\"]\n",
        "    tensor = torch.LongTensor(ids).unsqueeze(dim=0).to(device)\n",
        "    prediction = model(tensor).squeeze(dim=0)\n",
        "    probability = torch.softmax(prediction, dim=-1)\n",
        "    predicted_class = prediction.argmax(dim=-1).item()\n",
        "    predicted_probability = probability[predicted_class].item()\n",
        "    return predicted_class, predicted_probability"
      ]
    },
    {
      "cell_type": "code",
      "execution_count": null,
      "id": "bd35e378",
      "metadata": {
        "id": "bd35e378",
        "outputId": "0389492f-30eb-4aec-eafa-4ef08d17fd0d"
      },
      "outputs": [
        {
          "data": {
            "text/plain": [
              "(1, 0.9843763113021851)"
            ]
          },
          "execution_count": 49,
          "metadata": {},
          "output_type": "execute_result"
        }
      ],
      "source": [
        "text = \"This film is terrible!\"\n",
        "\n",
        "predict_sentiment(text, model, tokenizer, device)"
      ]
    },
    {
      "cell_type": "code",
      "execution_count": null,
      "id": "b53900c7",
      "metadata": {
        "id": "b53900c7",
        "outputId": "713995bb-c750-4e12-d276-8668d861ed2a"
      },
      "outputs": [
        {
          "data": {
            "text/plain": [
              "(1, 0.967552661895752)"
            ]
          },
          "execution_count": 50,
          "metadata": {},
          "output_type": "execute_result"
        }
      ],
      "source": [
        "text = \"This film is great!\"\n",
        "\n",
        "predict_sentiment(text, model, tokenizer, device)"
      ]
    },
    {
      "cell_type": "code",
      "execution_count": null,
      "id": "ad677cd1",
      "metadata": {
        "id": "ad677cd1",
        "outputId": "f9ca163a-3188-40cc-dc9d-f6c9c7fba57b"
      },
      "outputs": [
        {
          "data": {
            "text/plain": [
              "(1, 0.988355278968811)"
            ]
          },
          "execution_count": 51,
          "metadata": {},
          "output_type": "execute_result"
        }
      ],
      "source": [
        "text = \"This film is not terrible, it's great!\"\n",
        "\n",
        "predict_sentiment(text, model, tokenizer, device)"
      ]
    },
    {
      "cell_type": "code",
      "execution_count": null,
      "id": "e7c35353",
      "metadata": {
        "id": "e7c35353",
        "outputId": "e75cd063-2564-439c-d9db-4df5f1db929f"
      },
      "outputs": [
        {
          "data": {
            "text/plain": [
              "(1, 0.9893524050712585)"
            ]
          },
          "execution_count": 52,
          "metadata": {},
          "output_type": "execute_result"
        }
      ],
      "source": [
        "text = \"This film is not great, it's terrible!\"\n",
        "\n",
        "predict_sentiment(text, model, tokenizer, device)"
      ]
    },
    {
      "cell_type": "code",
      "execution_count": null,
      "id": "7da9bba6",
      "metadata": {
        "id": "7da9bba6",
        "outputId": "aace70e6-dd8f-48db-9b73-a45c7817b213"
      },
      "outputs": [
        {
          "data": {
            "text/plain": [
              "(0, 0.9994146823883057)"
            ]
          },
          "execution_count": 53,
          "metadata": {},
          "output_type": "execute_result"
        }
      ],
      "source": [
        "text = \"\"\"Japan's transport ministry raided the headquarters of motor giant Toyota on Tuesday, as a scandal over faulty safety data escalated.\n",
        "\n",
        "The world's largest carmaker has apologised for providing incorrect or manipulated data for safety certification tests.\n",
        "\n",
        "The scandal has shaken the Japanese car industry, with rivals Honda, Mazda and Suzuki also admitting to submitting faulty data.\n",
        "\n",
        "Toyota sold more than 11 million passenger vehicles in 2023.\n",
        "\n",
        "It has said the findings do not affect the safety of vehicles already on the road.\n",
        "\n",
        "The company has suspended the production of three car models - the Corolla Fielder, Corolla Axio and Yaris Cross.\n",
        "\n",
        "It has also been accused of using modified vehicles during safety collision tests, for vehicles that are no longer in production.\n",
        "\n",
        "The raids come a day after Toyota chairman Akio Toyoda apologised to customers and car enthusiasts.\n",
        "\n",
        "He bowed deeply and held the position for a few seconds, which is customary in Japan when companies apologise for wrongdoing.\n",
        "\n",
        "\"We neglected the certification process and mass produced our cars without first taking the proper precautionary steps,” Mr Toyoda said.\n",
        "EPA-EFE/REX/Shutterstock Toyota chairman Akio Toyoda bows at the start of a press conference in Tokyo, Japan on 3 June.EPA-EFE/REX/Shutterstock\n",
        "Toyota chairman Akio Toyoda has apologised for the faulty data\n",
        "\n",
        "Japanese carmakers Honda, Mazda and Suzuki are also due to be inspected by the authorities over the same issue.\n",
        "\n",
        "Honda said it found wrongdoing on tests related to noise and engine power, but it has stressed that its vehicles are safe to drive.\n",
        "\n",
        "Mazda has halted the shipments of some cars and said it will bear the cost to its suppliers.\n",
        "\n",
        "However, the company added that it is not planning on issuing recalls.\n",
        "\n",
        "The findings also apply to one Suzuki car model that is no longer being produced.\n",
        "\n",
        "Last December, Toyota-owned carmaker Daihatsu closed all of its factories for more than a month, after admitting that it had falsified safety tests.\n",
        "\n",
        "Some of the cars were sold with Toyota branding.\n",
        "\n",
        "Daihatsu compensated more than 400 domestic suppliers during the period where its plants were idle.\"\"\"\n",
        "\n",
        "predict_sentiment(text, model, tokenizer, device)"
      ]
    },
    {
      "cell_type": "code",
      "execution_count": null,
      "id": "a729ad1a",
      "metadata": {
        "id": "a729ad1a",
        "outputId": "e939112b-79de-40e5-c4af-ff92cb48f960"
      },
      "outputs": [
        {
          "data": {
            "text/plain": [
              "(1, 0.9997653365135193)"
            ]
          },
          "execution_count": 55,
          "metadata": {},
          "output_type": "execute_result"
        }
      ],
      "source": [
        "text = \"\"\"Jimmy Carter Becomes Second President Convicted Of Felony For Sticking Up Waffle House\n",
        "PublishedFriday 2:00PM\n",
        "Image for article titled Jimmy Carter Becomes Second President Convicted Of Felony For Sticking Up Waffle House\n",
        "\n",
        "PLAINS, GA—On the heels of Donald Trump receiving guilty verdicts on 34 felony counts in New York, Jimmy Carter became the second president ever convicted of a crime Friday after a jury found he broke numerous laws while sticking up a Waffle House near his home in Georgia. “Today’s verdict shows that the rule of law applies to everyone, even a former president of the United States who bursts into a diner, waves around a Glock, and demands all the money in the register plus an All-Star Special with a side of biscuits,” said Sumter Country district attorney Lewis R. Lamb, who spoke on the courthouse steps after securing guilty verdicts on over a dozen counts of armed robbery, aggravated assault, vandalism, and theft. “No one, not even a Nobel Peace Prize laureate, can—for no apparent reason—pistol-whip a patron sitting at a restaurant’s counter and then pour a carafe of piping hot coffee onto his face. Not without facing consequences. Today’s verdict shows that Mr. Carter was not above the law when the police tracked him down in a roadside motel surrounded by empty bottles of Jim Beam and a thousand dollars’ worth of meth and he looked up at his arresting officer and said, ‘The fuck took you so long?’” At press time, Carter’s attorneys had appealed the verdict, saying that his status as a former president gave him complete immunity to do donuts in a Waffle House parking lot while kissing his 17-year-old girlfriend, firing a gun into the air, and shouting, “Wooooooooo! Fuck yeah!”\"\"\"\n",
        "predict_sentiment(text, model, tokenizer, device)"
      ]
    }
  ],
  "metadata": {
    "colab": {
      "provenance": []
    },
    "kernelspec": {
      "display_name": "Python 3 (ipykernel)",
      "language": "python",
      "name": "python3"
    },
    "language_info": {
      "codemirror_mode": {
        "name": "ipython",
        "version": 3
      },
      "file_extension": ".py",
      "mimetype": "text/x-python",
      "name": "python",
      "nbconvert_exporter": "python",
      "pygments_lexer": "ipython3",
      "version": "3.11.2"
    }
  },
  "nbformat": 4,
  "nbformat_minor": 5
}